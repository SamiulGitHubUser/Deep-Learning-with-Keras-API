{
 "cells": [
  {
   "cell_type": "markdown",
   "metadata": {},
   "source": [
    "# Data Preprocessing to Save & Load Model - Classification-Task\n",
    "Keras is a deep learning API written in Python, running on top of the machine learning platform TensorFlow.\n",
    "* Keras API documentation, visit: https://keras.io/api/"
   ]
  },
  {
   "cell_type": "markdown",
   "metadata": {},
   "source": [
    "## Step-1: Data Preparation and Processing"
   ]
  },
  {
   "cell_type": "code",
   "execution_count": 4,
   "metadata": {},
   "outputs": [],
   "source": [
    "import numpy as np\n",
    "from sklearn.utils import shuffle\n",
    "from sklearn.preprocessing import MinMaxScaler"
   ]
  },
  {
   "cell_type": "markdown",
   "metadata": {},
   "source": [
    "### Create fake-dataset"
   ]
  },
  {
   "cell_type": "code",
   "execution_count": 5,
   "metadata": {},
   "outputs": [],
   "source": [
    "train_labels = []\n",
    "train_samples = []"
   ]
  },
  {
   "cell_type": "markdown",
   "metadata": {},
   "source": [
    "Background of Example data:\n",
    "    * An experiemental drug was tested on indivisuals from ages 13 to 100 in a clinical trail.\n",
    "    * The trail had 2100 participants. half were 65 years or older.\n",
    "    * 95% of patients 65 or older experienced side effects.\n",
    "    * 95% of patients under 65 experienced no side effects.\n",
    "    \n",
    "Task: Create a model that can predict a new patient who may or may not experience any side effects."
   ]
  },
  {
   "cell_type": "code",
   "execution_count": 6,
   "metadata": {},
   "outputs": [],
   "source": [
    "# Creating Dataset\n",
    "for i in range(50):\n",
    "    #The 5% of younger individuals who did experience side effects.\n",
    "    #Random ages 13~65 years\n",
    "    random_younger = np.random.randint(13, 64)\n",
    "    train_samples.append(random_younger)\n",
    "    train_labels.append(1)\n",
    "    \n",
    "    # The 5% of older individuals who did not experience side effects.\n",
    "    #Random ages 65~100 years\n",
    "    random_older = np.random.randint(65, 100)\n",
    "    train_samples.append(random_older)\n",
    "    train_labels.append(0)\n",
    "\n",
    "for i in range(1000):\n",
    "    #The 5% of younger individuals who didnot experience side effects.\n",
    "    #Random ages 13~65 years\n",
    "    random_younger = np.random.randint(13, 64)\n",
    "    train_samples.append(random_younger)\n",
    "    train_labels.append(0)\n",
    "    \n",
    "    # The 5% of older individuals who did experience side effects.\n",
    "    #Random ages 65~100 years\n",
    "    random_older = np.random.randint(65, 100)\n",
    "    train_samples.append(random_older)\n",
    "    train_labels.append(1)"
   ]
  },
  {
   "cell_type": "code",
   "execution_count": 8,
   "metadata": {},
   "outputs": [
    {
     "data": {
      "text/plain": [
       "[60, 71, 48, 93, 17, 90, 26, 95, 20, 99]"
      ]
     },
     "execution_count": 8,
     "metadata": {},
     "output_type": "execute_result"
    }
   ],
   "source": [
    "#first 10 samples\n",
    "train_samples[:10]"
   ]
  },
  {
   "cell_type": "code",
   "execution_count": 9,
   "metadata": {},
   "outputs": [
    {
     "data": {
      "text/plain": [
       "[1, 0, 1, 0, 1, 0, 1, 0, 1, 0]"
      ]
     },
     "execution_count": 9,
     "metadata": {},
     "output_type": "execute_result"
    }
   ],
   "source": [
    "#first 10 labels\n",
    "train_labels[:10]"
   ]
  },
  {
   "cell_type": "code",
   "execution_count": 13,
   "metadata": {},
   "outputs": [],
   "source": [
    "#shuffles the data\n",
    "train_labels = np.array(train_labels)\n",
    "train_samples = np.array(train_samples)\n",
    "train_labels, train_samples = shuffle(train_labels, train_samples)"
   ]
  },
  {
   "cell_type": "markdown",
   "metadata": {},
   "source": [
    "### Preprocessing data with MinMaxScaler"
   ]
  },
  {
   "cell_type": "code",
   "execution_count": 16,
   "metadata": {},
   "outputs": [],
   "source": [
    "scaler = MinMaxScaler(feature_range=(0,1))\n",
    "scaled_train_samples = scaler.fit_transform(train_samples.reshape(-1,1))"
   ]
  },
  {
   "cell_type": "code",
   "execution_count": 19,
   "metadata": {},
   "outputs": [
    {
     "data": {
      "text/plain": [
       "array([[0.8255814 ],\n",
       "       [0.39534884],\n",
       "       [0.65116279],\n",
       "       [0.76744186],\n",
       "       [0.06976744],\n",
       "       [0.06976744],\n",
       "       [0.20930233],\n",
       "       [0.90697674],\n",
       "       [0.90697674],\n",
       "       [0.8372093 ]])"
      ]
     },
     "execution_count": 19,
     "metadata": {},
     "output_type": "execute_result"
    }
   ],
   "source": [
    "#first 10 samples\n",
    "scaled_train_samples[:10]"
   ]
  },
  {
   "cell_type": "markdown",
   "metadata": {},
   "source": [
    "## Step-2: Create an Artificial Neural Network(ANN) with Keras"
   ]
  },
  {
   "cell_type": "markdown",
   "metadata": {},
   "source": [
    "### Import libraries"
   ]
  },
  {
   "cell_type": "code",
   "execution_count": 22,
   "metadata": {},
   "outputs": [],
   "source": [
    "import keras\n",
    "from keras import backend as k\n",
    "from keras.models import Sequential\n",
    "from keras.layers import Activation\n",
    "from keras.layers.core import Dense\n",
    "from keras.optimizers import Adam\n",
    "from keras.metrics import categorical_crossentropy"
   ]
  },
  {
   "cell_type": "code",
   "execution_count": 27,
   "metadata": {},
   "outputs": [],
   "source": [
    "model = Sequential([\n",
    "    Dense(16, input_shape=(1,), activation='relu'),\n",
    "    Dense(32, activation='relu'),\n",
    "    Dense(2, activation='softmax')\n",
    "])"
   ]
  },
  {
   "cell_type": "code",
   "execution_count": 25,
   "metadata": {},
   "outputs": [],
   "source": [
    "#Add layers in another way\n",
    "'''\n",
    "model.add(Dense(16, input_shape=(1,), activation='relu'))\n",
    "model.add(Dense(32, activation='relu'))\n",
    "model.add(Dense(2, activation='softmax'))\n",
    "'''"
   ]
  },
  {
   "cell_type": "code",
   "execution_count": 32,
   "metadata": {},
   "outputs": [
    {
     "name": "stdout",
     "output_type": "stream",
     "text": [
      "Model: \"sequential_2\"\n",
      "_________________________________________________________________\n",
      "Layer (type)                 Output Shape              Param #   \n",
      "=================================================================\n",
      "dense_2 (Dense)              (None, 16)                32        \n",
      "_________________________________________________________________\n",
      "dense_3 (Dense)              (None, 32)                544       \n",
      "_________________________________________________________________\n",
      "dense_4 (Dense)              (None, 2)                 66        \n",
      "=================================================================\n",
      "Total params: 642\n",
      "Trainable params: 642\n",
      "Non-trainable params: 0\n",
      "_________________________________________________________________\n"
     ]
    }
   ],
   "source": [
    "#Show the model architecture\n",
    "model.summary()"
   ]
  },
  {
   "cell_type": "markdown",
   "metadata": {},
   "source": [
    "## Step-3: Train the Artificial Neural Network or the Model"
   ]
  },
  {
   "cell_type": "markdown",
   "metadata": {},
   "source": [
    "### Compile the model"
   ]
  },
  {
   "cell_type": "code",
   "execution_count": 33,
   "metadata": {},
   "outputs": [],
   "source": [
    "model.compile(optimizer = Adam(learning_rate=0.0001), \n",
    "              loss = 'sparse_categorical_crossentropy', \n",
    "              metrics = ['accuracy'])"
   ]
  },
  {
   "cell_type": "markdown",
   "metadata": {},
   "source": [
    "### fit the model with training dataset"
   ]
  },
  {
   "cell_type": "code",
   "execution_count": 39,
   "metadata": {},
   "outputs": [
    {
     "name": "stdout",
     "output_type": "stream",
     "text": [
      "Epoch 1/20\n",
      " - 0s - loss: 0.2369 - accuracy: 0.9410\n",
      "Epoch 2/20\n",
      " - 0s - loss: 0.2367 - accuracy: 0.9433\n",
      "Epoch 3/20\n",
      " - 0s - loss: 0.2364 - accuracy: 0.9433\n",
      "Epoch 4/20\n",
      " - 0s - loss: 0.2362 - accuracy: 0.9433\n",
      "Epoch 5/20\n",
      " - 0s - loss: 0.2358 - accuracy: 0.9433\n",
      "Epoch 6/20\n",
      " - 0s - loss: 0.2356 - accuracy: 0.9433\n",
      "Epoch 7/20\n",
      " - 0s - loss: 0.2354 - accuracy: 0.9433\n",
      "Epoch 8/20\n",
      " - 0s - loss: 0.2353 - accuracy: 0.9433\n",
      "Epoch 9/20\n",
      " - 0s - loss: 0.2351 - accuracy: 0.9433\n",
      "Epoch 10/20\n",
      " - 0s - loss: 0.2348 - accuracy: 0.9433\n",
      "Epoch 11/20\n",
      " - 0s - loss: 0.2346 - accuracy: 0.9433\n",
      "Epoch 12/20\n",
      " - 0s - loss: 0.2343 - accuracy: 0.9433\n",
      "Epoch 13/20\n",
      " - 0s - loss: 0.2342 - accuracy: 0.9443\n",
      "Epoch 14/20\n",
      " - 0s - loss: 0.2340 - accuracy: 0.9433\n",
      "Epoch 15/20\n",
      " - 0s - loss: 0.2337 - accuracy: 0.9433\n",
      "Epoch 16/20\n",
      " - 0s - loss: 0.2335 - accuracy: 0.9433\n",
      "Epoch 17/20\n",
      " - 0s - loss: 0.2333 - accuracy: 0.9433\n",
      "Epoch 18/20\n",
      " - 0s - loss: 0.2331 - accuracy: 0.9462\n",
      "Epoch 19/20\n",
      " - 0s - loss: 0.2330 - accuracy: 0.9433\n",
      "Epoch 20/20\n",
      " - 0s - loss: 0.2327 - accuracy: 0.9443\n"
     ]
    },
    {
     "data": {
      "text/plain": [
       "<keras.callbacks.callbacks.History at 0x1bdacbe3848>"
      ]
     },
     "execution_count": 39,
     "metadata": {},
     "output_type": "execute_result"
    }
   ],
   "source": [
    "model.fit(x=scaled_train_samples, y=train_labels, \n",
    "          batch_size=10, epochs=20, shuffle=True, verbose=2)"
   ]
  },
  {
   "cell_type": "markdown",
   "metadata": {},
   "source": [
    "## Step-4: Build a validation set"
   ]
  },
  {
   "cell_type": "markdown",
   "metadata": {},
   "source": [
    "**validation_split = 0.1**\n",
    "    * 10% of training data that is not going to train."
   ]
  },
  {
   "cell_type": "markdown",
   "metadata": {},
   "source": [
    "### Fit model with validation set\n",
    "**It will show that the model is occurring Overfiting or Not**\n",
    "* Total data 2100,\n",
    "* Train on 1890 samples, validate on 210 samples\n",
    "* Additional information,\n",
    "    * val_loss\n",
    "    * val_accuracy"
   ]
  },
  {
   "cell_type": "code",
   "execution_count": 42,
   "metadata": {},
   "outputs": [
    {
     "name": "stdout",
     "output_type": "stream",
     "text": [
      "Train on 1890 samples, validate on 210 samples\n",
      "Epoch 1/20\n",
      " - 2s - loss: 0.2404 - accuracy: 0.9418 - val_loss: 0.1632 - val_accuracy: 0.9619\n",
      "Epoch 2/20\n",
      " - 0s - loss: 0.2401 - accuracy: 0.9423 - val_loss: 0.1634 - val_accuracy: 0.9619\n",
      "Epoch 3/20\n",
      " - 0s - loss: 0.2399 - accuracy: 0.9429 - val_loss: 0.1634 - val_accuracy: 0.9619\n",
      "Epoch 4/20\n",
      " - 0s - loss: 0.2399 - accuracy: 0.9429 - val_loss: 0.1627 - val_accuracy: 0.9619\n",
      "Epoch 5/20\n",
      " - 0s - loss: 0.2396 - accuracy: 0.9429 - val_loss: 0.1630 - val_accuracy: 0.9619\n",
      "Epoch 6/20\n",
      " - 0s - loss: 0.2393 - accuracy: 0.9413 - val_loss: 0.1633 - val_accuracy: 0.9619\n",
      "Epoch 7/20\n",
      " - 0s - loss: 0.2393 - accuracy: 0.9455 - val_loss: 0.1629 - val_accuracy: 0.9619\n",
      "Epoch 8/20\n",
      " - 0s - loss: 0.2391 - accuracy: 0.9423 - val_loss: 0.1633 - val_accuracy: 0.9714\n",
      "Epoch 9/20\n",
      " - 0s - loss: 0.2389 - accuracy: 0.9423 - val_loss: 0.1629 - val_accuracy: 0.9619\n",
      "Epoch 10/20\n",
      " - 0s - loss: 0.2387 - accuracy: 0.9439 - val_loss: 0.1631 - val_accuracy: 0.9714\n",
      "Epoch 11/20\n",
      " - 0s - loss: 0.2385 - accuracy: 0.9487 - val_loss: 0.1625 - val_accuracy: 0.9619\n",
      "Epoch 12/20\n",
      " - 0s - loss: 0.2386 - accuracy: 0.9439 - val_loss: 0.1622 - val_accuracy: 0.9619\n",
      "Epoch 13/20\n",
      " - 0s - loss: 0.2383 - accuracy: 0.9455 - val_loss: 0.1618 - val_accuracy: 0.9619\n",
      "Epoch 14/20\n",
      " - 0s - loss: 0.2381 - accuracy: 0.9439 - val_loss: 0.1620 - val_accuracy: 0.9619\n",
      "Epoch 15/20\n",
      " - 0s - loss: 0.2379 - accuracy: 0.9413 - val_loss: 0.1622 - val_accuracy: 0.9714\n",
      "Epoch 16/20\n",
      " - 0s - loss: 0.2378 - accuracy: 0.9455 - val_loss: 0.1623 - val_accuracy: 0.9714\n",
      "Epoch 17/20\n",
      " - 0s - loss: 0.2376 - accuracy: 0.9492 - val_loss: 0.1618 - val_accuracy: 0.9619\n",
      "Epoch 18/20\n",
      " - 0s - loss: 0.2375 - accuracy: 0.9439 - val_loss: 0.1614 - val_accuracy: 0.9619\n",
      "Epoch 19/20\n",
      " - 0s - loss: 0.2374 - accuracy: 0.9450 - val_loss: 0.1613 - val_accuracy: 0.9714\n",
      "Epoch 20/20\n",
      " - 0s - loss: 0.2372 - accuracy: 0.9460 - val_loss: 0.1611 - val_accuracy: 0.9619\n"
     ]
    },
    {
     "data": {
      "text/plain": [
       "<keras.callbacks.callbacks.History at 0x1bdaba06c08>"
      ]
     },
     "execution_count": 42,
     "metadata": {},
     "output_type": "execute_result"
    }
   ],
   "source": [
    "model.fit(x=scaled_train_samples, y=train_labels, \n",
    "          batch_size=10, validation_split=0.1, epochs=20, shuffle=True, verbose=2)"
   ]
  },
  {
   "cell_type": "markdown",
   "metadata": {},
   "source": [
    "## Step-5: Make Predictions"
   ]
  },
  {
   "cell_type": "markdown",
   "metadata": {},
   "source": [
    "### Create random test data"
   ]
  },
  {
   "cell_type": "code",
   "execution_count": 44,
   "metadata": {},
   "outputs": [],
   "source": [
    "test_samples = []\n",
    "test_labels = []\n",
    "\n",
    "# Creating Dataset\n",
    "for i in range(10):\n",
    "    #The 5% of younger individuals who did experience side effects.\n",
    "    #Random ages 13~65 years\n",
    "    random_younger = np.random.randint(13, 64)\n",
    "    test_samples.append(random_younger)\n",
    "    test_labels.append(1)\n",
    "    \n",
    "    # The 5% of older individuals who did not experience side effects.\n",
    "    #Random ages 65~100 years\n",
    "    random_older = np.random.randint(65, 100)\n",
    "    test_samples.append(random_older)\n",
    "    test_labels.append(0)\n",
    "\n",
    "for i in range(200):\n",
    "    #The 5% of younger individuals who didnot experience side effects.\n",
    "    #Random ages 13~65 years\n",
    "    random_younger = np.random.randint(13, 64)\n",
    "    test_samples.append(random_younger)\n",
    "    test_labels.append(0)\n",
    "    \n",
    "    # The 5% of older individuals who did experience side effects.\n",
    "    #Random ages 65~100 years\n",
    "    random_older = np.random.randint(65, 100)\n",
    "    test_samples.append(random_older)\n",
    "    test_labels.append(1)"
   ]
  },
  {
   "cell_type": "code",
   "execution_count": 46,
   "metadata": {},
   "outputs": [],
   "source": [
    "#shuffles the data\n",
    "test_labels = np.array(test_labels)\n",
    "test_samples = np.array(test_samples)"
   ]
  },
  {
   "cell_type": "markdown",
   "metadata": {},
   "source": [
    "### Scaled the test data"
   ]
  },
  {
   "cell_type": "code",
   "execution_count": 47,
   "metadata": {},
   "outputs": [],
   "source": [
    "scaler = MinMaxScaler(feature_range=(0,1))\n",
    "scaled_test_samples = scaler.fit_transform(test_samples.reshape(-1,1))"
   ]
  },
  {
   "cell_type": "code",
   "execution_count": 48,
   "metadata": {},
   "outputs": [
    {
     "data": {
      "text/plain": [
       "array([[0.27906977],\n",
       "       [1.        ],\n",
       "       [0.30232558],\n",
       "       [0.6627907 ],\n",
       "       [0.48837209],\n",
       "       [0.65116279],\n",
       "       [0.05813953],\n",
       "       [0.95348837],\n",
       "       [0.58139535],\n",
       "       [0.62790698]])"
      ]
     },
     "execution_count": 48,
     "metadata": {},
     "output_type": "execute_result"
    }
   ],
   "source": [
    "#first 10 data\n",
    "scaled_test_samples[:10]"
   ]
  },
  {
   "cell_type": "markdown",
   "metadata": {},
   "source": [
    "### Predictions"
   ]
  },
  {
   "cell_type": "code",
   "execution_count": 50,
   "metadata": {},
   "outputs": [],
   "source": [
    "predictions = model.predict(scaled_test_samples, batch_size=10, verbose=0)"
   ]
  },
  {
   "cell_type": "code",
   "execution_count": 53,
   "metadata": {},
   "outputs": [
    {
     "data": {
      "text/plain": [
       "array([[0.96701425, 0.03298572],\n",
       "       [0.01574942, 0.98425055],\n",
       "       [0.96642345, 0.0335765 ],\n",
       "       [0.14601175, 0.8539883 ],\n",
       "       [0.8799175 , 0.12008253],\n",
       "       [0.15745294, 0.8425471 ],\n",
       "       [0.9693015 , 0.03069839],\n",
       "       [0.02170351, 0.9782965 ],\n",
       "       [0.48756957, 0.5124304 ],\n",
       "       [0.23103535, 0.7689647 ]], dtype=float32)"
      ]
     },
     "execution_count": 53,
     "metadata": {},
     "output_type": "execute_result"
    }
   ],
   "source": [
    "#tuple of predictions percentage\n",
    "predictions[:10]"
   ]
  },
  {
   "cell_type": "code",
   "execution_count": 54,
   "metadata": {},
   "outputs": [],
   "source": [
    "rounded_predictions = model.predict_classes(scaled_test_samples, batch_size=10, verbose=0)"
   ]
  },
  {
   "cell_type": "code",
   "execution_count": 55,
   "metadata": {},
   "outputs": [
    {
     "data": {
      "text/plain": [
       "array([0, 1, 0, 1, 0, 1, 0, 1, 1, 1], dtype=int64)"
      ]
     },
     "execution_count": 55,
     "metadata": {},
     "output_type": "execute_result"
    }
   ],
   "source": [
    "# Rounded predtions values\n",
    "rounded_predictions[:10]"
   ]
  },
  {
   "cell_type": "markdown",
   "metadata": {},
   "source": [
    "## Step-6: Create  confusion matrix for predictions model"
   ]
  },
  {
   "cell_type": "code",
   "execution_count": 56,
   "metadata": {},
   "outputs": [],
   "source": [
    "import matplotlib.pyplot as plt\n",
    "from sklearn.metrics import confusion_matrix\n",
    "import itertools\n",
    "\n",
    "%matplotlib inline"
   ]
  },
  {
   "cell_type": "code",
   "execution_count": 58,
   "metadata": {},
   "outputs": [],
   "source": [
    "cm = confusion_matrix(test_labels, rounded_predictions)"
   ]
  },
  {
   "cell_type": "code",
   "execution_count": 61,
   "metadata": {},
   "outputs": [
    {
     "data": {
      "text/plain": [
       "array([[198,  12],\n",
       "       [  9, 201]], dtype=int64)"
      ]
     },
     "execution_count": 61,
     "metadata": {},
     "output_type": "execute_result"
    }
   ],
   "source": [
    "cm"
   ]
  },
  {
   "cell_type": "markdown",
   "metadata": {},
   "source": [
    "## Step-7: Save and Load model"
   ]
  },
  {
   "cell_type": "markdown",
   "metadata": {},
   "source": [
    "### 1.  model.save()"
   ]
  },
  {
   "cell_type": "code",
   "execution_count": 62,
   "metadata": {},
   "outputs": [],
   "source": [
    "model.save('medical_trial_model.h5')"
   ]
  },
  {
   "cell_type": "code",
   "execution_count": 63,
   "metadata": {},
   "outputs": [],
   "source": [
    "from keras.models import load_model"
   ]
  },
  {
   "cell_type": "code",
   "execution_count": 64,
   "metadata": {},
   "outputs": [],
   "source": [
    "new_model = load_model('medical_trial_model.h5')"
   ]
  },
  {
   "cell_type": "code",
   "execution_count": 65,
   "metadata": {},
   "outputs": [
    {
     "name": "stdout",
     "output_type": "stream",
     "text": [
      "Model: \"sequential_2\"\n",
      "_________________________________________________________________\n",
      "Layer (type)                 Output Shape              Param #   \n",
      "=================================================================\n",
      "dense_2 (Dense)              (None, 16)                32        \n",
      "_________________________________________________________________\n",
      "dense_3 (Dense)              (None, 32)                544       \n",
      "_________________________________________________________________\n",
      "dense_4 (Dense)              (None, 2)                 66        \n",
      "=================================================================\n",
      "Total params: 642\n",
      "Trainable params: 642\n",
      "Non-trainable params: 0\n",
      "_________________________________________________________________\n"
     ]
    }
   ],
   "source": [
    "new_model.summary()"
   ]
  },
  {
   "cell_type": "code",
   "execution_count": 70,
   "metadata": {},
   "outputs": [
    {
     "data": {
      "text/plain": [
       "<keras.optimizers.Adam at 0x1bdb3430508>"
      ]
     },
     "execution_count": 70,
     "metadata": {},
     "output_type": "execute_result"
    }
   ],
   "source": [
    "#new_model.get_weights()\n",
    "new_model.optimizer"
   ]
  },
  {
   "cell_type": "markdown",
   "metadata": {},
   "source": [
    "### 2. model.to_jeson[ ]\n",
    "if you want to save the architecture of a model and not its weight or its training configurations, Use the following function to save the architecture only."
   ]
  },
  {
   "cell_type": "code",
   "execution_count": 75,
   "metadata": {},
   "outputs": [],
   "source": [
    "#save as JSON\n",
    "json_string = model.to_json()"
   ]
  },
  {
   "cell_type": "code",
   "execution_count": 76,
   "metadata": {},
   "outputs": [
    {
     "data": {
      "text/plain": [
       "'{\"class_name\": \"Sequential\", \"config\": {\"name\": \"sequential_2\", \"layers\": [{\"class_name\": \"Dense\", \"config\": {\"name\": \"dense_2\", \"trainable\": true, \"batch_input_shape\": [null, 1], \"dtype\": \"float32\", \"units\": 16, \"activation\": \"relu\", \"use_bias\": true, \"kernel_initializer\": {\"class_name\": \"VarianceScaling\", \"config\": {\"scale\": 1.0, \"mode\": \"fan_avg\", \"distribution\": \"uniform\", \"seed\": null}}, \"bias_initializer\": {\"class_name\": \"Zeros\", \"config\": {}}, \"kernel_regularizer\": null, \"bias_regularizer\": null, \"activity_regularizer\": null, \"kernel_constraint\": null, \"bias_constraint\": null}}, {\"class_name\": \"Dense\", \"config\": {\"name\": \"dense_3\", \"trainable\": true, \"dtype\": \"float32\", \"units\": 32, \"activation\": \"relu\", \"use_bias\": true, \"kernel_initializer\": {\"class_name\": \"VarianceScaling\", \"config\": {\"scale\": 1.0, \"mode\": \"fan_avg\", \"distribution\": \"uniform\", \"seed\": null}}, \"bias_initializer\": {\"class_name\": \"Zeros\", \"config\": {}}, \"kernel_regularizer\": null, \"bias_regularizer\": null, \"activity_regularizer\": null, \"kernel_constraint\": null, \"bias_constraint\": null}}, {\"class_name\": \"Dense\", \"config\": {\"name\": \"dense_4\", \"trainable\": true, \"dtype\": \"float32\", \"units\": 2, \"activation\": \"softmax\", \"use_bias\": true, \"kernel_initializer\": {\"class_name\": \"VarianceScaling\", \"config\": {\"scale\": 1.0, \"mode\": \"fan_avg\", \"distribution\": \"uniform\", \"seed\": null}}, \"bias_initializer\": {\"class_name\": \"Zeros\", \"config\": {}}, \"kernel_regularizer\": null, \"bias_regularizer\": null, \"activity_regularizer\": null, \"kernel_constraint\": null, \"bias_constraint\": null}}]}, \"keras_version\": \"2.3.1\", \"backend\": \"tensorflow\"}'"
      ]
     },
     "execution_count": 76,
     "metadata": {},
     "output_type": "execute_result"
    }
   ],
   "source": [
    "json_string"
   ]
  },
  {
   "cell_type": "code",
   "execution_count": 77,
   "metadata": {},
   "outputs": [],
   "source": [
    "# model reconstruction from JSON:\n",
    "from keras.models import model_from_json\n",
    "model_architecture = model_from_json(json_string)"
   ]
  },
  {
   "cell_type": "code",
   "execution_count": 78,
   "metadata": {},
   "outputs": [
    {
     "name": "stdout",
     "output_type": "stream",
     "text": [
      "Model: \"sequential_2\"\n",
      "_________________________________________________________________\n",
      "Layer (type)                 Output Shape              Param #   \n",
      "=================================================================\n",
      "dense_2 (Dense)              (None, 16)                32        \n",
      "_________________________________________________________________\n",
      "dense_3 (Dense)              (None, 32)                544       \n",
      "_________________________________________________________________\n",
      "dense_4 (Dense)              (None, 2)                 66        \n",
      "=================================================================\n",
      "Total params: 642\n",
      "Trainable params: 642\n",
      "Non-trainable params: 0\n",
      "_________________________________________________________________\n"
     ]
    }
   ],
   "source": [
    "model_architecture.summary()"
   ]
  },
  {
   "cell_type": "markdown",
   "metadata": {},
   "source": [
    "### 3. model.save_weight( )\n",
    "If you only need to save the weights of a model, Use the following function save the weights only."
   ]
  },
  {
   "cell_type": "code",
   "execution_count": 79,
   "metadata": {},
   "outputs": [],
   "source": [
    "model.save_weights('my_model_weights.h5')"
   ]
  },
  {
   "cell_type": "code",
   "execution_count": 80,
   "metadata": {},
   "outputs": [],
   "source": [
    "model2 = Sequential([\n",
    "    Dense(16, input_shape=(1,), activation='relu'),\n",
    "    Dense(32, activation='relu'),\n",
    "    Dense(2, activation='softmax')\n",
    "])"
   ]
  },
  {
   "cell_type": "code",
   "execution_count": 81,
   "metadata": {},
   "outputs": [],
   "source": [
    "model2.load_weights('my_model_weights.h5')"
   ]
  },
  {
   "cell_type": "code",
   "execution_count": 83,
   "metadata": {},
   "outputs": [],
   "source": [
    "#model2.get_weights()"
   ]
  },
  {
   "cell_type": "code",
   "execution_count": 84,
   "metadata": {},
   "outputs": [
    {
     "name": "stdout",
     "output_type": "stream",
     "text": [
      "Model: \"sequential_3\"\n",
      "_________________________________________________________________\n",
      "Layer (type)                 Output Shape              Param #   \n",
      "=================================================================\n",
      "dense_5 (Dense)              (None, 16)                32        \n",
      "_________________________________________________________________\n",
      "dense_6 (Dense)              (None, 32)                544       \n",
      "_________________________________________________________________\n",
      "dense_7 (Dense)              (None, 2)                 66        \n",
      "=================================================================\n",
      "Total params: 642\n",
      "Trainable params: 642\n",
      "Non-trainable params: 0\n",
      "_________________________________________________________________\n"
     ]
    }
   ],
   "source": [
    "model2.summary()"
   ]
  },
  {
   "cell_type": "code",
   "execution_count": null,
   "metadata": {},
   "outputs": [],
   "source": []
  }
 ],
 "metadata": {
  "kernelspec": {
   "display_name": "Python 3",
   "language": "python",
   "name": "python3"
  },
  "language_info": {
   "codemirror_mode": {
    "name": "ipython",
    "version": 3
   },
   "file_extension": ".py",
   "mimetype": "text/x-python",
   "name": "python",
   "nbconvert_exporter": "python",
   "pygments_lexer": "ipython3",
   "version": "3.7.6"
  }
 },
 "nbformat": 4,
 "nbformat_minor": 4
}
